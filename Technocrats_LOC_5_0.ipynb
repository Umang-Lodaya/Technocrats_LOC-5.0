{
  "cells": [
    {
      "cell_type": "markdown",
      "metadata": {
        "id": "view-in-github",
        "colab_type": "text"
      },
      "source": [
        "<a href=\"https://colab.research.google.com/github/Umang-Lodaya/Technocrats_LOC-5.0/blob/main/Technocrats_LOC_5_0.ipynb\" target=\"_parent\"><img src=\"https://colab.research.google.com/assets/colab-badge.svg\" alt=\"Open In Colab\"/></a>"
      ]
    },
    {
      "cell_type": "code",
      "execution_count": 1,
      "metadata": {
        "colab": {
          "base_uri": "https://localhost:8080/"
        },
        "id": "ygYM-72hBssp",
        "outputId": "b07daea2-5a6f-49fc-b281-10e1d6e385e4"
      },
      "outputs": [
        {
          "output_type": "stream",
          "name": "stdout",
          "text": [
            "Drive already mounted at /content/drive; to attempt to forcibly remount, call drive.mount(\"/content/drive\", force_remount=True).\n"
          ]
        }
      ],
      "source": [
        "from google.colab import drive\n",
        "drive.mount('/content/drive')"
      ]
    },
    {
      "cell_type": "code",
      "execution_count": 2,
      "metadata": {
        "id": "2M8d2UCy2Eeg",
        "colab": {
          "base_uri": "https://localhost:8080/"
        },
        "outputId": "80c339d7-ba9d-4086-dc9d-5a05a6f0aae3"
      },
      "outputs": [
        {
          "output_type": "stream",
          "name": "stdout",
          "text": [
            "Looking in indexes: https://pypi.org/simple, https://us-python.pkg.dev/colab-wheels/public/simple/\n",
            "Requirement already satisfied: easyocr in /usr/local/lib/python3.9/dist-packages (1.6.2)\n",
            "Requirement already satisfied: scipy in /usr/local/lib/python3.9/dist-packages (from easyocr) (1.10.1)\n",
            "Requirement already satisfied: scikit-image in /usr/local/lib/python3.9/dist-packages (from easyocr) (0.19.3)\n",
            "Requirement already satisfied: Shapely in /usr/local/lib/python3.9/dist-packages (from easyocr) (2.0.1)\n",
            "Requirement already satisfied: pyclipper in /usr/local/lib/python3.9/dist-packages (from easyocr) (1.3.0.post4)\n",
            "Requirement already satisfied: PyYAML in /usr/local/lib/python3.9/dist-packages (from easyocr) (6.0)\n",
            "Requirement already satisfied: ninja in /usr/local/lib/python3.9/dist-packages (from easyocr) (1.11.1)\n",
            "Requirement already satisfied: python-bidi in /usr/local/lib/python3.9/dist-packages (from easyocr) (0.4.2)\n",
            "Requirement already satisfied: Pillow in /usr/local/lib/python3.9/dist-packages (from easyocr) (8.4.0)\n",
            "Requirement already satisfied: torch in /usr/local/lib/python3.9/dist-packages (from easyocr) (1.13.1+cu116)\n",
            "Requirement already satisfied: numpy in /usr/local/lib/python3.9/dist-packages (from easyocr) (1.22.4)\n",
            "Requirement already satisfied: torchvision>=0.5 in /usr/local/lib/python3.9/dist-packages (from easyocr) (0.14.1+cu116)\n",
            "Requirement already satisfied: opencv-python-headless<=4.5.4.60 in /usr/local/lib/python3.9/dist-packages (from easyocr) (4.5.4.60)\n",
            "Requirement already satisfied: typing-extensions in /usr/local/lib/python3.9/dist-packages (from torchvision>=0.5->easyocr) (4.5.0)\n",
            "Requirement already satisfied: requests in /usr/local/lib/python3.9/dist-packages (from torchvision>=0.5->easyocr) (2.25.1)\n",
            "Requirement already satisfied: six in /usr/local/lib/python3.9/dist-packages (from python-bidi->easyocr) (1.15.0)\n",
            "Requirement already satisfied: packaging>=20.0 in /usr/local/lib/python3.9/dist-packages (from scikit-image->easyocr) (23.0)\n",
            "Requirement already satisfied: imageio>=2.4.1 in /usr/local/lib/python3.9/dist-packages (from scikit-image->easyocr) (2.9.0)\n",
            "Requirement already satisfied: networkx>=2.2 in /usr/local/lib/python3.9/dist-packages (from scikit-image->easyocr) (3.0)\n",
            "Requirement already satisfied: tifffile>=2019.7.26 in /usr/local/lib/python3.9/dist-packages (from scikit-image->easyocr) (2023.2.28)\n",
            "Requirement already satisfied: PyWavelets>=1.1.1 in /usr/local/lib/python3.9/dist-packages (from scikit-image->easyocr) (1.4.1)\n",
            "Requirement already satisfied: urllib3<1.27,>=1.21.1 in /usr/local/lib/python3.9/dist-packages (from requests->torchvision>=0.5->easyocr) (1.26.14)\n",
            "Requirement already satisfied: certifi>=2017.4.17 in /usr/local/lib/python3.9/dist-packages (from requests->torchvision>=0.5->easyocr) (2022.12.7)\n",
            "Requirement already satisfied: idna<3,>=2.5 in /usr/local/lib/python3.9/dist-packages (from requests->torchvision>=0.5->easyocr) (2.10)\n",
            "Requirement already satisfied: chardet<5,>=3.0.2 in /usr/local/lib/python3.9/dist-packages (from requests->torchvision>=0.5->easyocr) (4.0.0)\n"
          ]
        }
      ],
      "source": [
        "!pip install easyocr"
      ]
    },
    {
      "cell_type": "code",
      "execution_count": 3,
      "metadata": {
        "colab": {
          "base_uri": "https://localhost:8080/"
        },
        "id": "sq7cpqUgr2uA",
        "outputId": "41c8a196-3cdc-4b33-bec8-dbc3f13f0477"
      },
      "outputs": [
        {
          "output_type": "stream",
          "name": "stdout",
          "text": [
            "/content/drive/MyDrive/LOC Technocrats/Id-Dataset/aadhar/26.jpg\n",
            "/content/drive/MyDrive/LOC Technocrats/Id-Dataset/aadhar/4.jpg\n",
            "/content/drive/MyDrive/LOC Technocrats/Id-Dataset/aadhar/18.jpg\n",
            "/content/drive/MyDrive/LOC Technocrats/Id-Dataset/aadhar/12.jpg\n",
            "/content/drive/MyDrive/LOC Technocrats/Id-Dataset/aadhar/2.jpg\n",
            "/content/drive/MyDrive/LOC Technocrats/Id-Dataset/pan/3333.jpeg\n",
            "/content/drive/MyDrive/LOC Technocrats/Id-Dataset/pan/guiu.jpg\n",
            "/content/drive/MyDrive/LOC Technocrats/Id-Dataset/pan/Rajesh PAN Card.jpg\n",
            "/content/drive/MyDrive/LOC Technocrats/Id-Dataset/pan/jlkkkn.jpg\n",
            "/content/drive/MyDrive/LOC Technocrats/Id-Dataset/pan/dddddd.jpg\n"
          ]
        }
      ],
      "source": [
        "import numpy as np \n",
        "import pandas as pd \n",
        "\n",
        "paths = []\n",
        "pan_paths = []\n",
        "\n",
        "import os\n",
        "for dirname, _, filenames in os.walk('/content/drive/MyDrive/LOC Technocrats'):\n",
        "    if dirname == \"/content/drive/MyDrive/LOC Technocrats/Id-Dataset/aadhar\":\n",
        "        for filename in filenames:\n",
        "            path = dirname + '/' + filename\n",
        "            paths.append(path)\n",
        "    elif dirname == \"/content/drive/MyDrive/LOC Technocrats/Id-Dataset/pan\":\n",
        "        for filename in filenames:\n",
        "            path = dirname + '/' + filename\n",
        "            pan_paths.append(path)\n",
        "\n",
        "for i in paths[:5]:\n",
        "    print(i)\n",
        "\n",
        "for i in pan_paths[:5]:\n",
        "    print(i)"
      ]
    },
    {
      "cell_type": "code",
      "execution_count": 4,
      "metadata": {
        "id": "di50767j2IhB"
      },
      "outputs": [],
      "source": [
        "import easyocr\n",
        "import cv2\n",
        "from google.colab.patches import cv2_imshow"
      ]
    },
    {
      "cell_type": "code",
      "execution_count": 5,
      "metadata": {
        "id": "aSaaJS3oHSVc"
      },
      "outputs": [],
      "source": [
        "def funct(path):\n",
        "    img = cv2.imread(path)\n",
        "    # cv2_imshow(img)\n",
        "    reader = easyocr.Reader(['en'])\n",
        "    result = reader.readtext(img, detail = 0)\n",
        "    return result"
      ]
    },
    {
      "cell_type": "code",
      "execution_count": 6,
      "metadata": {
        "id": "RVtK6MnDHeN0"
      },
      "outputs": [],
      "source": [
        "outputs = []\n",
        "for i in paths:\n",
        "    outputs.append(' '.join(funct(i)))"
      ]
    },
    {
      "cell_type": "code",
      "execution_count": 7,
      "metadata": {
        "colab": {
          "base_uri": "https://localhost:8080/"
        },
        "id": "MIz0wx8aOuXo",
        "outputId": "8fb002bf-eb62-4b50-8633-46a11d20920f"
      },
      "outputs": [
        {
          "output_type": "execute_result",
          "data": {
            "text/plain": [
              "['HT HTTN Govexnmen: cl India Ig7 7Gu Kunta Knnozhzn TarTpor 11/09*1353 TAT / Feciele 2114 5270 9955 HTER HT4 3141 T 3fu47',\n",
              " '8689 2565 8268 HTU77 3MTJT #i & #f0c JURAJ 84J4, 7 FA Woz C1c04T: 8689 2565 8268 HTUTT 31TA 314H 3uF Open',\n",
              " '5947 1158 3638 JcH #1 3uaFt HUR HT4',\n",
              " '@b8w  N1J8TTI6SLD Government of India g6UQTWJI Csm Aishwarya G 0dbg BitGT DOB 17/11/1999 QuGUTUrou Female 3052 7875 6145 950if &0gmIGoot   LO6oflg6oflgot   91g1s1gu',\n",
              " 'FI 4U Priranko Vunjar TT ! Ycar D Dut 1824 41741 Famnin 7911 9635 8981 MM4R 314 3aff #1 aferr',\n",
              " 'aat 744M Scumudo FIfwOOe Q101/1083 {M4lE 50bd [483 00z1 4u t TrT',\n",
              " 'HRT HITR Government of India RrRT Riyasat J4 fafet/ DOB: 01/01/1991 9 1 MALE 6754 3973 8680 AT 3r8R , A 4uit',\n",
              " 'HRd Htn KOvEbNMENTO= INDIA Jh aTIDOB.25/12/1993 5or Male 3962 4463 577 H<T 3TETr, H& 4JTt',\n",
              " 'ATT TTT Government of India 3ut 7974 77 L Reshma Raza 1 74 AridoB: 06/07/1968 8 9a FEMALE 1 3 8 1 8 8378 7495 7171 VID : 9186 5263 2401 8327 AT 3ret< , TTT 98 JTT',\n",
              " 'Taia Rajeev Sharma Jrr a4YoB:1982 T59 Male 6903 2611 1844']"
            ]
          },
          "metadata": {},
          "execution_count": 7
        }
      ],
      "source": [
        "outputs[:10]"
      ]
    },
    {
      "cell_type": "code",
      "execution_count": 8,
      "metadata": {
        "colab": {
          "base_uri": "https://localhost:8080/"
        },
        "id": "6gAVE_9bZYL0",
        "outputId": "59c1f194-f8d5-489f-d3d6-8aaff4468579"
      },
      "outputs": [
        {
          "output_type": "execute_result",
          "data": {
            "text/plain": [
              "38"
            ]
          },
          "metadata": {},
          "execution_count": 8
        }
      ],
      "source": [
        "len(outputs)"
      ]
    },
    {
      "cell_type": "code",
      "execution_count": 9,
      "metadata": {
        "colab": {
          "base_uri": "https://localhost:8080/"
        },
        "id": "GOzfOefLUM57",
        "outputId": "210a9a6d-fc6f-4614-f4cb-d792cbd9dbed"
      },
      "outputs": [
        {
          "output_type": "stream",
          "name": "stdout",
          "text": [
            "1 5\n",
            "2 7\n",
            "3 10\n",
            "4 12\n",
            "5 13\n",
            "6 25\n",
            "7 28\n",
            "8 29\n",
            "9 30\n",
            "10 32\n",
            "11 34\n",
            "12 35\n",
            "13 36\n"
          ]
        }
      ],
      "source": [
        "import re\n",
        "uid = []\n",
        "nan = []\n",
        "j = 1\n",
        "for i in outputs:\n",
        "    id = re.findall('\\d{4}[\\s|]\\d{4}\\s\\d{4}', i)\n",
        "    if id == []:\n",
        "        nan.append(outputs.index(i))\n",
        "        print(j, outputs.index(i))\n",
        "        j += 1\n",
        "    else:\n",
        "        uid.append(id[0])"
      ]
    },
    {
      "cell_type": "code",
      "execution_count": 10,
      "metadata": {
        "colab": {
          "base_uri": "https://localhost:8080/"
        },
        "id": "eXCieyPknQVv",
        "outputId": "0aaf55c0-27a9-4482-915f-73cb5890b772"
      },
      "outputs": [
        {
          "output_type": "stream",
          "name": "stdout",
          "text": [
            "0 2114 5270 9955\n",
            "1 8689 2565 8268\n",
            "2 5947 1158 3638\n",
            "3 3052 7875 6145\n",
            "4 7911 9635 8981\n",
            "5 6754 3973 8680\n",
            "6 8378 7495 7171\n",
            "7 6903 2611 1844\n",
            "0 2114 5270 9955\n",
            "9 3066 2940 6413\n",
            "10 6008 9344 1710\n",
            "11 6033 1325 0609\n",
            "12 9748 5386 8028\n",
            "2 5947 1158 3638\n",
            "14 7332 1173 5961\n",
            "15 2003 1388 4901\n",
            "16 9121 4079 4234\n",
            "17 4148 3474 4070\n",
            "18 7648 5731 9055\n",
            "7 6903 2611 1844\n",
            "20 8716 0813 8875\n",
            "21 2621 4644 2086\n",
            "22 9502 1517 6995\n",
            "23 9298 6849 3111\n",
            "24 2334 6936 1311\n"
          ]
        }
      ],
      "source": [
        "for i in uid:\n",
        "    print(uid.index(i), i)"
      ]
    },
    {
      "cell_type": "code",
      "execution_count": 11,
      "metadata": {
        "colab": {
          "base_uri": "https://localhost:8080/"
        },
        "id": "JHV8pCogitqC",
        "outputId": "de75b242-984b-47f0-f49a-c45e84ce5977"
      },
      "outputs": [
        {
          "output_type": "execute_result",
          "data": {
            "text/plain": [
              "13"
            ]
          },
          "metadata": {},
          "execution_count": 11
        }
      ],
      "source": [
        "len(nan)"
      ]
    },
    {
      "cell_type": "code",
      "execution_count": 12,
      "metadata": {
        "colab": {
          "base_uri": "https://localhost:8080/"
        },
        "id": "7dIOM7CqH81N",
        "outputId": "d0b43ecd-583f-41ed-dcb7-9fedf7ce2cf3"
      },
      "outputs": [
        {
          "output_type": "execute_result",
          "data": {
            "text/plain": [
              "0.6578947368421053"
            ]
          },
          "metadata": {},
          "execution_count": 12
        }
      ],
      "source": [
        "len(uid) / len(outputs)"
      ]
    },
    {
      "cell_type": "code",
      "execution_count": 13,
      "metadata": {
        "id": "S8EErQr-Zfu5"
      },
      "outputs": [],
      "source": [
        "# for i in nan:\n",
        "#     print(i, outputs[i], '\\n')\n",
        "\n",
        "# for i in nan:\n",
        "#     img = cv2.imread(paths[i])\n",
        "#     cv2_imshow(img)\n",
        "#     print(\"\\n\", outputs[i], '\\n\\n')"
      ]
    },
    {
      "cell_type": "code",
      "execution_count": 14,
      "metadata": {
        "id": "XPkqrtBAaBLg"
      },
      "outputs": [],
      "source": [
        "outputs = []\n",
        "for i in pan_paths:\n",
        "    outputs.append(' '.join(funct(i)))"
      ]
    },
    {
      "cell_type": "code",
      "execution_count": 15,
      "metadata": {
        "colab": {
          "base_uri": "https://localhost:8080/"
        },
        "id": "8Ow3wg5YE9N_",
        "outputId": "3894c23b-9ffc-4c71-8014-25f80ec76291"
      },
      "outputs": [
        {
          "output_type": "execute_result",
          "data": {
            "text/plain": [
              "32"
            ]
          },
          "metadata": {},
          "execution_count": 15
        }
      ],
      "source": [
        "len(outputs)"
      ]
    },
    {
      "cell_type": "code",
      "execution_count": 16,
      "metadata": {
        "colab": {
          "base_uri": "https://localhost:8080/"
        },
        "id": "PJVF5r5bEcTt",
        "outputId": "fc39521b-5ffe-454e-eb3c-38c2a79cccd8"
      },
      "outputs": [
        {
          "output_type": "execute_result",
          "data": {
            "text/plain": [
              "['Brar]frtrT FRT rTr INCOME TAX DEPARTMENT GOVT OF INDIA terft +u1 Hr4T zle Permanent Account Number Card BLAPTO864M 4T4 Name TANKNATH fum #1 7T4 Falher\" $ Name MOTIkHAR 77 #1 Tr Date ot Birth 2,naq 01/01/1965 #E7T81 / Signalure',\n",
              " '3143r TarT HRT TTET INCUME TaX DEPARTMENT GOVT OF INDIA SRINIVASA GV VENKATESHAPPA 07/04/1984 Fumant BJAPS76E6C Se 3ianalune',\n",
              " 'Birr fat TRT TREr INCOME TAX DEPARTMENT GOVT. OF INDIA RAJESH BALKRISHNA MISHRA B R MISHRA 01/01/1990 Permanent Account Number AUUPM695AD Qaee Signature',\n",
              " '314r fetT HTT TFR INCOWE TaX DZPARTMENT GOVT OF INDIA turit 4 tT 4Y1-Fd Pczzancniccount Yumty Cu AAMPI804ZF RoFrL ESAE al Fathe/& Mamo Shaikh_uouimathuan 04 Tl( DeectBirth 18/07/1860 ThntTtl Sionaluro',\n",
              " '814er TarT TRT TrETr LRCOKE TAX DEPARTMENT COVT, OF INDIA RAKESH E THEKKUMTHODATH GOPALAN BOSE 14/05/1986 Penit ATOPBO7SOH',\n",
              " '&zar_far HRT RER MCOHEiaX DEPARTMENT GOVT . OF INDIA aajendrA behera RABINDRA BEHEAA 31/10/1985 Perimmeri CAsteala AZUPB51970 Ink &r 5ig787iro',\n",
              " '1eTx Tent TQT Heplz INCOME IaX DEPAROUEnT GOVT OF INDIA MANOJ KUMAR PANDEY AWADHESH KUMAR PANDEY 1640/1994 CETPPJ3DZM',\n",
              " '3144r TRT TR MCOKE TAX DEPA R TMENT GOVT OF INDLA Ton H97 ?ermancnt Acccunt Number Cara ALQP 5755L Lakmi chettre Odon; Deolela 05*03/1965 Taler4 [ Slgnaiuro ferl',\n",
              " \"310TF fhrt Ard TTTR [NcoME iAX DEPARTVEST COVT OF INDIA THan DzPPK21Z5h LLatHlav' cau 304R04 77; dlBra 1410/1996 EEmSaLnt KE\",\n",
              " 'ce_frT ART TER INCOMETAX DEFARTWENT GOVT; OF [NDIA RAJESH CHAUHAN CHANDRADHAR CHAUHAM 10/n3/1900 Acccut Nunilet BDUPC8O47F 1a-ta Seralure',\n",
              " 'B1Tr faxT ART TRTR INCOMEiaX DEPARTMENT GOVT, OF INDIA MALLAR MUKHOPADHYAY MUKHOPADHYAY 02001/1977 umcar AUOPMS713Q LLrt']"
            ]
          },
          "metadata": {},
          "execution_count": 16
        }
      ],
      "source": [
        "outputs[:11]"
      ]
    },
    {
      "cell_type": "code",
      "execution_count": 17,
      "metadata": {
        "colab": {
          "base_uri": "https://localhost:8080/",
          "height": 198
        },
        "id": "_hxi1PfJHPKu",
        "outputId": "e1b42bd3-68b1-4aff-c17b-3365bda55b6a"
      },
      "outputs": [
        {
          "output_type": "display_data",
          "data": {
            "text/plain": [
              "<PIL.Image.Image image mode=L size=279x181 at 0x7F1C7B915A90>"
            ],
            "image/png": "[encoded data removed]"
          },
          "metadata": {}
        }
      ],
      "source": [
        "img = cv2.imread(pan_paths[10], 0)\n",
        "cv2_imshow(img)"
      ]
    },
    {
      "cell_type": "code",
      "execution_count": 18,
      "metadata": {
        "colab": {
          "base_uri": "https://localhost:8080/"
        },
        "id": "8O70T5KVEeZ_",
        "outputId": "1f3d37a4-2972-441a-cd0f-75cd6f3365cf"
      },
      "outputs": [
        {
          "output_type": "stream",
          "name": "stdout",
          "text": [
            "0 []\n",
            "1 []\n",
            "2 []\n",
            "3 []\n",
            "4 []\n",
            "5 []\n",
            "6 []\n",
            "7 []\n",
            "8 []\n",
            "9 []\n",
            "10 []\n",
            "11 ['BLAPT0864M']\n",
            "10 []\n",
            "13 ['ANRPM2537J']\n",
            "14 ['BNQPP8824B']\n",
            "15 []\n",
            "16 ['AQSPL9772C']\n",
            "17 []\n",
            "18 []\n",
            "19 ['AZHPN8387P']\n",
            "20 []\n",
            "21 []\n",
            "22 ['AHEPY8216D']\n",
            "23 []\n",
            "24 ['BFDPM6385P']\n",
            "25 ['DZJPM4230D']\n",
            "26 []\n",
            "27 ['BJQPP5524G']\n",
            "28 []\n",
            "29 []\n",
            "30 []\n",
            "31 ['BZGPK3157C']\n"
          ]
        }
      ],
      "source": [
        "import re\n",
        "pan = []\n",
        "nan = []\n",
        "j = 1\n",
        "for i in outputs:\n",
        "    id = re.findall(\"[A-Z]{5}[0-9]{4}[A-Z]{1}\", i)\n",
        "    print(outputs.index(i), id)\n",
        "    if id == []:\n",
        "        nan.append(outputs.index(i))\n",
        "        # print(j, outputs.index(i))\n",
        "        j += 1\n",
        "    else:\n",
        "        pan.append(id[0])"
      ]
    },
    {
      "cell_type": "code",
      "execution_count": 19,
      "metadata": {
        "colab": {
          "base_uri": "https://localhost:8080/"
        },
        "id": "sw7OOe2cEgR9",
        "outputId": "d6dfa109-04b6-4354-d8db-1877e6aaaaa8"
      },
      "outputs": [
        {
          "output_type": "stream",
          "name": "stdout",
          "text": [
            "0 BLAPT0864M\n",
            "1 ANRPM2537J\n",
            "2 BNQPP8824B\n",
            "3 AQSPL9772C\n",
            "4 AZHPN8387P\n",
            "5 AHEPY8216D\n",
            "6 BFDPM6385P\n",
            "7 DZJPM4230D\n",
            "8 BJQPP5524G\n",
            "9 BZGPK3157C\n"
          ]
        }
      ],
      "source": [
        "for i in pan:\n",
        "    print(pan.index(i), i)"
      ]
    },
    {
      "cell_type": "code",
      "execution_count": 20,
      "metadata": {
        "colab": {
          "base_uri": "https://localhost:8080/"
        },
        "id": "H3WcjR_QEht_",
        "outputId": "63c02aff-f824-4550-f44d-a6d2e93c6e18"
      },
      "outputs": [
        {
          "output_type": "execute_result",
          "data": {
            "text/plain": [
              "22"
            ]
          },
          "metadata": {},
          "execution_count": 20
        }
      ],
      "source": [
        "len(nan)"
      ]
    },
    {
      "cell_type": "code",
      "execution_count": 21,
      "metadata": {
        "colab": {
          "base_uri": "https://localhost:8080/"
        },
        "id": "TgrmZ1q5ID6e",
        "outputId": "1f410e85-446a-4d06-8e0e-4f6a3cd518f6"
      },
      "outputs": [
        {
          "output_type": "execute_result",
          "data": {
            "text/plain": [
              "0.3125"
            ]
          },
          "metadata": {},
          "execution_count": 21
        }
      ],
      "source": [
        "len(pan) / len(outputs)"
      ]
    },
    {
      "cell_type": "code",
      "execution_count": null,
      "metadata": {
        "id": "EZ8IIBieEizA"
      },
      "outputs": [],
      "source": [
        "for i in nan:\n",
        "    img = cv2.imread(pan_paths[i])\n",
        "    cv2_imshow(img)\n",
        "    print(\"\\n\", outputs[i], '\\n\\n')"
      ]
    },
    {
      "cell_type": "code",
      "source": [
        "img = cv2.imread(pan_paths[10], 0)\n",
        "cv2_imshow(img)"
      ],
      "metadata": {
        "colab": {
          "base_uri": "https://localhost:8080/",
          "height": 198
        },
        "id": "6CCWUeoDOu5Q",
        "outputId": "1699ffaa-2d61-4499-b995-14d8a6a9e442"
      },
      "execution_count": 26,
      "outputs": [
        {
          "output_type": "display_data",
          "data": {
            "text/plain": [
              "<PIL.Image.Image image mode=L size=279x181 at 0x7F1C71766580>"
            ],
            "image/png": "[encoded data removed]"
          },
          "metadata": {}
        }
      ]
    },
    {
      "cell_type": "code",
      "source": [
        "img.shape"
      ],
      "metadata": {
        "colab": {
          "base_uri": "https://localhost:8080/"
        },
        "id": "q6V90XhWO3Wi",
        "outputId": "0b648e73-830e-4288-ad13-e0f264a5b950"
      },
      "execution_count": 27,
      "outputs": [
        {
          "output_type": "execute_result",
          "data": {
            "text/plain": [
              "(181, 279)"
            ]
          },
          "metadata": {},
          "execution_count": 27
        }
      ]
    },
    {
      "cell_type": "code",
      "source": [
        "def THRES(image, T = 180):\n",
        "    h, w = image.shape\n",
        "\n",
        "    th = []\n",
        "    for i in range(h):\n",
        "        temp = []\n",
        "        for j in range(w):\n",
        "            r = image[i][j]\n",
        "            if r >= T:\n",
        "                temp.append(255)\n",
        "            else:\n",
        "                temp.append(r)\n",
        "        \n",
        "        th.append(temp)\n",
        "    \n",
        "    return np.array(th)"
      ],
      "metadata": {
        "id": "YjAtL5PJPDXy"
      },
      "execution_count": 36,
      "outputs": []
    },
    {
      "cell_type": "code",
      "source": [
        "th = THRES(img)\n",
        "cv2_imshow(th)"
      ],
      "metadata": {
        "colab": {
          "base_uri": "https://localhost:8080/",
          "height": 198
        },
        "id": "R-dgRLjKQLGw",
        "outputId": "d9d51677-1cd9-4afc-92b8-a6df01ee8201"
      },
      "execution_count": 37,
      "outputs": [
        {
          "output_type": "display_data",
          "data": {
            "text/plain": [
              "<PIL.Image.Image image mode=L size=279x181 at 0x7F1C784AACD0>"
            ],
            "image/png": "[encoded data removed]"
          },
          "metadata": {}
        }
      ]
    },
    {
      "cell_type": "code",
      "source": [
        "th.shape"
      ],
      "metadata": {
        "colab": {
          "base_uri": "https://localhost:8080/"
        },
        "id": "xbE1-8eESCP-",
        "outputId": "703d0766-dd3d-44ad-8e31-93a08c5eae89"
      },
      "execution_count": 42,
      "outputs": [
        {
          "output_type": "execute_result",
          "data": {
            "text/plain": [
              "(181, 279)"
            ]
          },
          "metadata": {},
          "execution_count": 42
        }
      ]
    },
    {
      "cell_type": "code",
      "source": [
        "reader = easyocr.Reader(['en'])\n",
        "result = reader.readtext(th)"
      ],
      "metadata": {
        "id": "iFYUTp7YRmLi"
      },
      "execution_count": null,
      "outputs": []
    },
    {
      "cell_type": "code",
      "source": [
        "id = re.findall(\"[A-Z]{5}[0-9]{4}[A-Z]{1}\", ' '.join(result))\n",
        "print(outputs.index(i), id)"
      ],
      "metadata": {
        "id": "NCgwGzzfQ5iW"
      },
      "execution_count": null,
      "outputs": []
    }
  ],
  "metadata": {
    "accelerator": "GPU",
    "colab": {
      "provenance": [],
      "include_colab_link": true
    },
    "gpuClass": "standard",
    "kernelspec": {
      "display_name": "Python 3",
      "language": "python",
      "name": "python3"
    },
    "language_info": {
      "codemirror_mode": {
        "name": "ipython",
        "version": 3
      },
      "file_extension": ".py",
      "mimetype": "text/x-python",
      "name": "python",
      "nbconvert_exporter": "python",
      "pygments_lexer": "ipython3",
      "version": "3.7.12"
    }
  },
  "nbformat": 4,
  "nbformat_minor": 0
}