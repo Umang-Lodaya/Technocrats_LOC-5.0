{
 "cells": [
  {
   "cell_type": "code",
   "execution_count": 1,
   "metadata": {},
   "outputs": [],
   "source": [
    "import os\n",
    "import cv2\n",
    "import albumentations as A\n",
    "from tqdm import tqdm"
   ]
  },
  {
   "cell_type": "code",
   "execution_count": 7,
   "metadata": {},
   "outputs": [],
   "source": [
    "transform = A.Compose([A.RandomBrightnessContrast(\n",
    "                              brightness_limit=[-0.2, 0.4],\n",
    "                              contrast_limit=[-0.2,0.4],\n",
    "                              p=0.7)])"
   ]
  },
  {
   "cell_type": "code",
   "execution_count": 13,
   "metadata": {},
   "outputs": [],
   "source": [
    "folder = '../Aadhar'\n",
    "new_folder = '../NewAadhar'\n",
    "paths = os.listdir(folder)"
   ]
  },
  {
   "cell_type": "code",
   "execution_count": 14,
   "metadata": {},
   "outputs": [
    {
     "name": "stderr",
     "output_type": "stream",
     "text": [
      "100%|██████████| 1000/1000 [00:18<00:00, 55.25it/s]\n"
     ]
    }
   ],
   "source": [
    "for path in tqdm(paths):\n",
    "  img = cv2.imread(os.path.join(folder,path))  # apply augmentation  \n",
    "  transformed = transform(image=img)  \n",
    "  cv2.imwrite(os.path.join(new_folder,path), transformed['image'])"
   ]
  }
 ],
 "metadata": {
  "kernelspec": {
   "display_name": "Python 3",
   "language": "python",
   "name": "python3"
  },
  "language_info": {
   "codemirror_mode": {
    "name": "ipython",
    "version": 3
   },
   "file_extension": ".py",
   "mimetype": "text/x-python",
   "name": "python",
   "nbconvert_exporter": "python",
   "pygments_lexer": "ipython3",
   "version": "3.11.1"
  },
  "orig_nbformat": 4
 },
 "nbformat": 4,
 "nbformat_minor": 2
}
