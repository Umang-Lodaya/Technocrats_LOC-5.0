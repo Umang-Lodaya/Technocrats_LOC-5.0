{
  "nbformat": 4,
  "nbformat_minor": 0,
  "metadata": {
    "colab": {
      "provenance": []
    },
    "kernelspec": {
      "name": "python3",
      "display_name": "Python 3"
    },
    "language_info": {
      "name": "python"
    }
  },
  "cells": [
    {
      "cell_type": "markdown",
      "source": [
        "# Generate"
      ],
      "metadata": {
        "id": "fD_Q0qdgbB3-"
      }
    },
    {
      "cell_type": "code",
      "source": [
        "!pip install indian-names"
      ],
      "metadata": {
        "colab": {
          "base_uri": "https://localhost:8080/"
        },
        "id": "U8BB3PofWSjY",
        "outputId": "2716c580-ca5a-4b41-9faf-439d9b0bdae3"
      },
      "execution_count": null,
      "outputs": [
        {
          "output_type": "stream",
          "name": "stdout",
          "text": [
            "Looking in indexes: https://pypi.org/simple, https://us-python.pkg.dev/colab-wheels/public/simple/\n",
            "Collecting indian-names\n",
            "  Downloading indian_names-0.3-py3-none-any.whl (12 kB)\n",
            "Installing collected packages: indian-names\n",
            "Successfully installed indian-names-0.3\n"
          ]
        }
      ]
    },
    {
      "cell_type": "code",
      "source": [
        "all_names = {'male':[], 'female':[]\n",
        "            #  , 'm_age': [], 'f_age':[]\n",
        "             }\n",
        "\n",
        "for i in range(500):\n",
        "  all_names['male'].append(names.get_full_name(gender='male'))\n",
        "  all_names['female'].append(names.get_full_name(gender='female'))\n",
        "  # all_names['m_age'] = np.random.randint(18,85)\n",
        "  # all_names['f_age'] = np.random.randint(18,85)\n",
        "\n",
        "\n",
        "df = pd.DataFrame(all_names)"
      ],
      "metadata": {
        "id": "9tW7p1Mkeji4"
      },
      "execution_count": null,
      "outputs": []
    },
    {
      "cell_type": "markdown",
      "source": [
        "# Hindi"
      ],
      "metadata": {
        "id": "jdVSGCnky9HT"
      }
    },
    {
      "cell_type": "code",
      "execution_count": null,
      "metadata": {
        "id": "yupK-KNHWQb6"
      },
      "outputs": [],
      "source": [
        "import indian_names as names\n",
        "import random"
      ]
    },
    {
      "cell_type": "code",
      "source": [
        "all_names = {'male':set(), 'female':set()}"
      ],
      "metadata": {
        "id": "py_HAoUiWrXz"
      },
      "execution_count": null,
      "outputs": []
    },
    {
      "cell_type": "code",
      "source": [
        "for i in range(150):\n",
        "  all_names['male'].add(names.get_full_name(gender='male'))\n",
        "  all_names['female'].add(names.get_full_name(gender='female'))"
      ],
      "metadata": {
        "id": "yJhf3fBvWltZ"
      },
      "execution_count": null,
      "outputs": []
    },
    {
      "cell_type": "code",
      "source": [
        "all_names['female'] = list(all_names['female'])"
      ],
      "metadata": {
        "id": "_BdvVeNQYIAk"
      },
      "execution_count": null,
      "outputs": []
    },
    {
      "cell_type": "code",
      "source": [
        "import pandas as pd"
      ],
      "metadata": {
        "id": "v24nbKwXXl0j"
      },
      "execution_count": null,
      "outputs": []
    },
    {
      "cell_type": "code",
      "source": [
        "df = pd.DataFrame(all_names)\n",
        "df"
      ],
      "metadata": {
        "colab": {
          "base_uri": "https://localhost:8080/",
          "height": 423
        },
        "id": "SZORJ0LdYlQB",
        "outputId": "28562634-9082-4d71-f49a-3e496f466ec8"
      },
      "execution_count": null,
      "outputs": [
        {
          "output_type": "execute_result",
          "data": {
            "text/plain": [
              "                          male             female\n",
              "0                Eklavya Raina     Khushboo Arora\n",
              "1                 Anish Roshan  Shuchita Khajuria\n",
              "2    Kripashankar Mukhopadhyay    Damyanti Holkar\n",
              "3                 Nakul Tiwari     Akriti Kayasth\n",
              "4            Ashutosh Sengupta  Shubhangi Pushkar\n",
              "..                         ...                ...\n",
              "145              Angad Mohanty        Prabha Bahl\n",
              "146            Indraneel Verma       Rakshita Das\n",
              "147              Nikhil Mantri   Sulabha Mumukshu\n",
              "148             Ramesh Khaitan    Foolkumari Goel\n",
              "149            Ansh Bhandarkar      Urmila Paswan\n",
              "\n",
              "[150 rows x 2 columns]"
            ],
            "text/html": [
              "\n",
              "  <div id=\"df-2c85bb13-b488-4b51-955e-649cc3fc4f4e\">\n",
              "    <div class=\"colab-df-container\">\n",
              "      <div>\n",
              "<style scoped>\n",
              "    .dataframe tbody tr th:only-of-type {\n",
              "        vertical-align: middle;\n",
              "    }\n",
              "\n",
              "    .dataframe tbody tr th {\n",
              "        vertical-align: top;\n",
              "    }\n",
              "\n",
              "    .dataframe thead th {\n",
              "        text-align: right;\n",
              "    }\n",
              "</style>\n",
              "<table border=\"1\" class=\"dataframe\">\n",
              "  <thead>\n",
              "    <tr style=\"text-align: right;\">\n",
              "      <th></th>\n",
              "      <th>male</th>\n",
              "      <th>female</th>\n",
              "    </tr>\n",
              "  </thead>\n",
              "  <tbody>\n",
              "    <tr>\n",
              "      <th>0</th>\n",
              "      <td>Eklavya Raina</td>\n",
              "      <td>Khushboo Arora</td>\n",
              "    </tr>\n",
              "    <tr>\n",
              "      <th>1</th>\n",
              "      <td>Anish Roshan</td>\n",
              "      <td>Shuchita Khajuria</td>\n",
              "    </tr>\n",
              "    <tr>\n",
              "      <th>2</th>\n",
              "      <td>Kripashankar Mukhopadhyay</td>\n",
              "      <td>Damyanti Holkar</td>\n",
              "    </tr>\n",
              "    <tr>\n",
              "      <th>3</th>\n",
              "      <td>Nakul Tiwari</td>\n",
              "      <td>Akriti Kayasth</td>\n",
              "    </tr>\n",
              "    <tr>\n",
              "      <th>4</th>\n",
              "      <td>Ashutosh Sengupta</td>\n",
              "      <td>Shubhangi Pushkar</td>\n",
              "    </tr>\n",
              "    <tr>\n",
              "      <th>...</th>\n",
              "      <td>...</td>\n",
              "      <td>...</td>\n",
              "    </tr>\n",
              "    <tr>\n",
              "      <th>145</th>\n",
              "      <td>Angad Mohanty</td>\n",
              "      <td>Prabha Bahl</td>\n",
              "    </tr>\n",
              "    <tr>\n",
              "      <th>146</th>\n",
              "      <td>Indraneel Verma</td>\n",
              "      <td>Rakshita Das</td>\n",
              "    </tr>\n",
              "    <tr>\n",
              "      <th>147</th>\n",
              "      <td>Nikhil Mantri</td>\n",
              "      <td>Sulabha Mumukshu</td>\n",
              "    </tr>\n",
              "    <tr>\n",
              "      <th>148</th>\n",
              "      <td>Ramesh Khaitan</td>\n",
              "      <td>Foolkumari Goel</td>\n",
              "    </tr>\n",
              "    <tr>\n",
              "      <th>149</th>\n",
              "      <td>Ansh Bhandarkar</td>\n",
              "      <td>Urmila Paswan</td>\n",
              "    </tr>\n",
              "  </tbody>\n",
              "</table>\n",
              "<p>150 rows × 2 columns</p>\n",
              "</div>\n",
              "      <button class=\"colab-df-convert\" onclick=\"convertToInteractive('df-2c85bb13-b488-4b51-955e-649cc3fc4f4e')\"\n",
              "              title=\"Convert this dataframe to an interactive table.\"\n",
              "              style=\"display:none;\">\n",
              "        \n",
              "  <svg xmlns=\"http://www.w3.org/2000/svg\" height=\"24px\"viewBox=\"0 0 24 24\"\n",
              "       width=\"24px\">\n",
              "    <path d=\"M0 0h24v24H0V0z\" fill=\"none\"/>\n",
              "    <path d=\"M18.56 5.44l.94 2.06.94-2.06 2.06-.94-2.06-.94-.94-2.06-.94 2.06-2.06.94zm-11 1L8.5 8.5l.94-2.06 2.06-.94-2.06-.94L8.5 2.5l-.94 2.06-2.06.94zm10 10l.94 2.06.94-2.06 2.06-.94-2.06-.94-.94-2.06-.94 2.06-2.06.94z\"/><path d=\"M17.41 7.96l-1.37-1.37c-.4-.4-.92-.59-1.43-.59-.52 0-1.04.2-1.43.59L10.3 9.45l-7.72 7.72c-.78.78-.78 2.05 0 2.83L4 21.41c.39.39.9.59 1.41.59.51 0 1.02-.2 1.41-.59l7.78-7.78 2.81-2.81c.8-.78.8-2.07 0-2.86zM5.41 20L4 18.59l7.72-7.72 1.47 1.35L5.41 20z\"/>\n",
              "  </svg>\n",
              "      </button>\n",
              "      \n",
              "  <style>\n",
              "    .colab-df-container {\n",
              "      display:flex;\n",
              "      flex-wrap:wrap;\n",
              "      gap: 12px;\n",
              "    }\n",
              "\n",
              "    .colab-df-convert {\n",
              "      background-color: #E8F0FE;\n",
              "      border: none;\n",
              "      border-radius: 50%;\n",
              "      cursor: pointer;\n",
              "      display: none;\n",
              "      fill: #1967D2;\n",
              "      height: 32px;\n",
              "      padding: 0 0 0 0;\n",
              "      width: 32px;\n",
              "    }\n",
              "\n",
              "    .colab-df-convert:hover {\n",
              "      background-color: #E2EBFA;\n",
              "      box-shadow: 0px 1px 2px rgba(60, 64, 67, 0.3), 0px 1px 3px 1px rgba(60, 64, 67, 0.15);\n",
              "      fill: #174EA6;\n",
              "    }\n",
              "\n",
              "    [theme=dark] .colab-df-convert {\n",
              "      background-color: #3B4455;\n",
              "      fill: #D2E3FC;\n",
              "    }\n",
              "\n",
              "    [theme=dark] .colab-df-convert:hover {\n",
              "      background-color: #434B5C;\n",
              "      box-shadow: 0px 1px 3px 1px rgba(0, 0, 0, 0.15);\n",
              "      filter: drop-shadow(0px 1px 2px rgba(0, 0, 0, 0.3));\n",
              "      fill: #FFFFFF;\n",
              "    }\n",
              "  </style>\n",
              "\n",
              "      <script>\n",
              "        const buttonEl =\n",
              "          document.querySelector('#df-2c85bb13-b488-4b51-955e-649cc3fc4f4e button.colab-df-convert');\n",
              "        buttonEl.style.display =\n",
              "          google.colab.kernel.accessAllowed ? 'block' : 'none';\n",
              "\n",
              "        async function convertToInteractive(key) {\n",
              "          const element = document.querySelector('#df-2c85bb13-b488-4b51-955e-649cc3fc4f4e');\n",
              "          const dataTable =\n",
              "            await google.colab.kernel.invokeFunction('convertToInteractive',\n",
              "                                                     [key], {});\n",
              "          if (!dataTable) return;\n",
              "\n",
              "          const docLinkHtml = 'Like what you see? Visit the ' +\n",
              "            '<a target=\"_blank\" href=https://colab.research.google.com/notebooks/data_table.ipynb>data table notebook</a>'\n",
              "            + ' to learn more about interactive tables.';\n",
              "          element.innerHTML = '';\n",
              "          dataTable['output_type'] = 'display_data';\n",
              "          await google.colab.output.renderOutput(dataTable, element);\n",
              "          const docLink = document.createElement('div');\n",
              "          docLink.innerHTML = docLinkHtml;\n",
              "          element.appendChild(docLink);\n",
              "        }\n",
              "      </script>\n",
              "    </div>\n",
              "  </div>\n",
              "  "
            ]
          },
          "metadata": {},
          "execution_count": 23
        }
      ]
    },
    {
      "cell_type": "code",
      "source": [
        "df.to_csv('indian_names.csv',index=False)"
      ],
      "metadata": {
        "id": "5-4fVK4eYwi6"
      },
      "execution_count": null,
      "outputs": []
    },
    {
      "cell_type": "code",
      "source": [
        "hind_male = '''एकलव्य रैना अनीश रोशन कृपाशंकर मुखोपाध्याय नकुल तिवारी आशुतोष सेनगुप्ता छोटेलाल बहुगुणा विभूति भटनागर तेजस्वी भदौरिया उमाशंकर गंभीर सौरभ पोद्दार विनीत बघेल सोमदत्त होल्कर सोहम महतो शैलेंद्र नाथ गंगेश राजे शैलेश भाटी मदन मेनन गजेंद्र जालान इंद्रसेन जालान प्रत्युष नाइक देबाशीष तेंदुलकर मनु वैद्य जगदीश बच्चन शरद शास्त्री सुस्त्री घोषाल अभिलाष मरांडी नीलाद्री होल्कर वायरल मेनन हनुमान राजे सज्जन पुरोहित अनुराग रैना ओम पोद्दार सत्यप्रकाश आदर्श शिवेश बिंद्रा अमित सैनी कनकप्रसाद मोरे राजेंद्र राय शशांक फोगट रविशंकर वैद्य वशिष्ठ पटेल राम दासगुप्ता विक्रम हजारिया विवस्वान सरकार सूर्य मेनन प्रखर सिसोदिया साकेत मिस्त्री इंद्रजीत भास्कर बृजेश दमानी वेदांत राठी विशाल चंद्रचूड़ कार्तिकेय चंद्रवंशी राकेश सेनगुप्ता सोनू सिंघी संजय देओल ब्रह्मदत्त कौशिक गजानंद नरूला शैलेश आदर्श आदित्यनाथ सोनकर नित्यानंद पेडणेकर सहदेव बख्शी नारायण गडकरी मिथुन बिंद्रा समीर सागर प्रेमनारायण राम शिव पूजन पाटिल निशांत गुजराल श्रेयश गुजराल प्रेमशंकर शंकर पवन मालोदे महीप सुप्रियो दिवाकर जहांगीरदार बृजेश परमार आकाश नरूला नृपेंद्र आजाद महावीर देशपांडे काशीनाथ प्रियदर्शिनी रणवीर शॉ नीलाद्रि हजारिया भार्गव सक्सेना राज शॉ नीतीश खेर उपेंद्र जिंदल सोमदत्त सांपला विनोद सुराना भूपेंद्र भास्कर रितेश चौरसिया सत्यप्रकाश राजपुरोहित प्रयास मुंडक गंगेश लालवानी सुजीत गोस्वामी हिमांशु गोयल वेदप्रकाश सेठी प्रताप मंडल अमरेंद्र व्यास रवि धोनी ब्रह्मदत्त जिंदल मिलिंद बोस नीलाद्रि पांडे विभोर बसु जगन्नाथ ठाकरे तेजप्रताप माली सुजीत मोदी बलदेव सहाय श्रीकांत डे राघवेंद्र गडकरी सुभाष ददलानी अनुज शॉ अरविंद सिसोदिया आशु ढोलकिया जगदीश गुर्जर हार्दिक पुष्कर सुरेंद्र त्यागी विशाल रोडे भार्गव बाल्यान प्रकाश कोहली भारद्वाज सेन रविशंकर चंद्रवंशी रुचिर गोस्वामी केसरी धानुका अश्विनी राठौर उदयराज खेर किशोर गुरु सुंदर खजुरिया दिव्यांश गोंड प्रशांत दीक्षित विभोर ओझा रोहित सहनी हरिहर बाला अमोघ अग्रवाल मा धुर दास सिद्धार्थ रावत प्रमद दिदवानिया गिरीश मरांडी देवेंद्र जेठवानी पंकज नागर राज जाधव विलास वाल्मीकि हर्षवर्धन ओबेरॉय प्रशांत बनर्जी मारुति खन्ना परमेश्वर पटेल अंगद बंदोपाध्याय अमरीश मलिक कपिल व्यास अंगद मोहंती इंद्रनील वर्मा निखिल मंत्री रमेश खेतान अंश भंडारकर\n",
        "'''"
      ],
      "metadata": {
        "id": "_HycIGGLhFRU"
      },
      "execution_count": null,
      "outputs": []
    },
    {
      "cell_type": "code",
      "source": [
        "hindi_female = '''खुशबू अरोरा शुचिता खजूरिया दमयंती होल्कर आकृति कायस्थ शुभांगी पुष्कर माया भावसार अनुभूति जैन सुप्रिया गहरवार अपराजिता सरदाना संगीता कक्कड़ निमिशा डे हरिका त्रिवेदी रुनझुन ढोलकिया मीरा वहल आरती चोपड़ा शिखा सिसोदिया पूर्वी जावड़ेकर संतनिका नाहर दामिनी कायस्थ मानसी लोहिया प्रमिला गुरु रेवती चौरसिया लीला खोसला हेमलता रोड प्रीति अंबानी मोहिनी त्रिवेदी वेदिका खेमका लता ददलानी लिपिका मीना महिमा वहल शकुंतला सेठी अरुणिता गौतम प्रतिभा पटेल स्तुति विश्वकर्मा महालक्ष्मी उपाध्याय अंशिका अत्रे सुहासिनी अंबानी नीतिका बरनवाल राजश्री तेंदुलकर काशवी अवस्थी नीलू मोर सानिध्य पांडे जावित्री बिंद्रा ईशा शॉ काजोल आहूजा स्मृति खजूरिया मंदाकिनी पुजारी वर्तिका सोनी सुलोचना चोपड़ा आशा कामत सीमा कुलकर्णी माला शंकर किरण द्विवेदी शोभा रेड्डी शुभांगी भास्कर रेखा ददलानी मनीषा दुबे प्रेक्षा भट्ट नयनतारा शेखावत अलका भटनागर नीतिका गायतोंडे गुंजा त्यागी प्रिया राम निहारिका हलदार हरिप्रिया मोहंती कलावती घोषाल माहेश्वरी सेठी सुकृतिका महतो सुकृतिका रावल सुकृतिका शोरे गार्गी देशपांडे रिद्धि पवार रजनी ठाकुर सुप्रिया सहाय मिहिका सोनी मिताली कपूर रक्षिता भार्गव शुभी बजाज सुनीति सिसोदिया शिखा घोषाल करुणा त्रिवेदी अपराजिता कामत परिणीता खजुरिया प्रियंवदा रुंथला शेफाली भाटी तनीषा सुराना साधना सुप्रियो भगवती हर्षा मंगेशकर अर्चना कक्कड़ अवंतिका सांपला सुकृतिका मुक्ति रैना जूली गावस्कर रूनझुन दत्त साधना गुजराल महालक्ष्मी अहले मुक्ति दीक्षित पुष्पा माली सुषमा अहले निधि गुजराल रीतिका गडकरी अपर्णा शॉ रक्षा कौल मैथिली पाठक मानसी गांवकर हंसवी सिंह नयनतारा अठावले सरस्वती नाइक अनामिका अतलानी यशोदा सुराना गुंजा मालोदे नैना भारती सरोजिनी जेटली दीपिका जहांगीरदार भगवती गोविल मधुलिका राउत दुर्गा दासगुप्ता शशिकला राम मंजुला स्वराज सुधा मुंडा श्रुति तंवर हेमलता गायतोंडे अन्वेषा नेगी अवनी राय दीप्ति माथुर राशि गुर्जर सोनी गुजराल पूर्व केतकर उज्जवला श्रीवास्तव अंजू मंडल रेखा पटवारी रुचिका आहूजा उपज्ञा सेनगुप्ता तूलिका खा नीरू ठाकुर हेमलता रावत भगवती जेठवानी आडवाणी रत्नेश देसाई रुम्पा अत्रे अनीता मिश्रा मधुरिमा हजारिया अवंतिका शेखावत अध्या मजूमदार वरुण अम्बेडकर प्रभा बहल रक्षिता दास सुलभा मुमुक्षु फूलकुमारी गोयल उर्मिला पासवान\n",
        "'''"
      ],
      "metadata": {
        "id": "UPy66Jlxiacv"
      },
      "execution_count": null,
      "outputs": []
    },
    {
      "cell_type": "code",
      "source": [
        "male_ls = hind_male.split(' ')\n",
        "male_hi_names = []"
      ],
      "metadata": {
        "id": "Qz6JsqxQhKOQ"
      },
      "execution_count": null,
      "outputs": []
    },
    {
      "cell_type": "code",
      "source": [
        "for i in range(0, len(male_ls),2):\n",
        "  name = ' '.join([male_ls[i], male_ls[i+1]])\n",
        "  # print(name)\n",
        "  male_hi_names.append(name)"
      ],
      "metadata": {
        "id": "MA_-EuE4hMMb"
      },
      "execution_count": null,
      "outputs": []
    },
    {
      "cell_type": "code",
      "source": [
        "female_ls = hindi_female.split(' ')"
      ],
      "metadata": {
        "id": "mKBSfdM_h2uu"
      },
      "execution_count": null,
      "outputs": []
    },
    {
      "cell_type": "code",
      "source": [
        "len(female_ls)"
      ],
      "metadata": {
        "colab": {
          "base_uri": "https://localhost:8080/"
        },
        "id": "T72L9hk6j5Cy",
        "outputId": "476d22ab-d4d4-4e63-a8ac-e07181b10c17"
      },
      "execution_count": null,
      "outputs": [
        {
          "output_type": "execute_result",
          "data": {
            "text/plain": [
              "299"
            ]
          },
          "metadata": {},
          "execution_count": 87
        }
      ]
    },
    {
      "cell_type": "code",
      "source": [
        "for i in range(0, len(female_ls)-1,2):\n",
        "  name = ' '.join([female_ls[i], female_ls[i+1]])\n",
        "  # female_hi_names.append(name)\n",
        "  print(int(i/2+2), name)"
      ],
      "metadata": {
        "colab": {
          "base_uri": "https://localhost:8080/"
        },
        "id": "RcQqP3m4jCEA",
        "outputId": "c58ecb78-dd02-4312-a1a1-5889e38473c8"
      },
      "execution_count": null,
      "outputs": [
        {
          "output_type": "stream",
          "name": "stdout",
          "text": [
            "2 खुशबू अरोरा\n",
            "3 शुचिता खजूरिया\n",
            "4 दमयंती होल्कर\n",
            "5 आकृति कायस्थ\n",
            "6 शुभांगी पुष्कर\n",
            "7 माया भावसार\n",
            "8 अनुभूति जैन\n",
            "9 सुप्रिया गहरवार\n",
            "10 अपराजिता सरदाना\n",
            "11 संगीता कक्कड़\n",
            "12 निमिशा डे\n",
            "13 हरिका त्रिवेदी\n",
            "14 रुनझुन ढोलकिया\n",
            "15 मीरा वहल\n",
            "16 आरती चोपड़ा\n",
            "17 शिखा सिसोदिया\n",
            "18 पूर्वी जावड़ेकर\n",
            "19 संतनिका नाहर\n",
            "20 दामिनी कायस्थ\n",
            "21 मानसी लोहिया\n",
            "22 प्रमिला गुरु\n",
            "23 रेवती चौरसिया\n",
            "24 लीला खोसला\n",
            "25 हेमलता रोड\n",
            "26 प्रीति अंबानी\n",
            "27 मोहिनी त्रिवेदी\n",
            "28 वेदिका खेमका\n",
            "29 लता ददलानी\n",
            "30 लिपिका मीना\n",
            "31 महिमा वहल\n",
            "32 शकुंतला सेठी\n",
            "33 अरुणिता गौतम\n",
            "34 प्रतिभा पटेल\n",
            "35 स्तुति विश्वकर्मा\n",
            "36 महालक्ष्मी उपाध्याय\n",
            "37 अंशिका अत्रे\n",
            "38 सुहासिनी अंबानी\n",
            "39 नीतिका बरनवाल\n",
            "40 राजश्री तेंदुलकर\n",
            "41 काशवी अवस्थी\n",
            "42 नीलू मोर\n",
            "43 सानिध्य पांडे\n",
            "44 जावित्री बिंद्रा\n",
            "45 ईशा शॉ\n",
            "46 काजोल आहूजा\n",
            "47 स्मृति खजूरिया\n",
            "48 मंदाकिनी पुजारी\n",
            "49 वर्तिका सोनी\n",
            "50 सुलोचना चोपड़ा\n",
            "51 आशा कामत\n",
            "52 सीमा कुलकर्णी\n",
            "53 माला शंकर\n",
            "54 किरण द्विवेदी\n",
            "55 शोभा रेड्डी\n",
            "56 शुभांगी भास्कर\n",
            "57 रेखा ददलानी\n",
            "58 मनीषा दुबे\n",
            "59 प्रेक्षा भट्ट\n",
            "60 नयनतारा शेखावत\n",
            "61 अलका भटनागर\n",
            "62 नीतिका गायतोंडे\n",
            "63 गुंजा त्यागी\n",
            "64 प्रिया राम\n",
            "65 निहारिका हलदार\n",
            "66 हरिप्रिया मोहंती\n",
            "67 कलावती घोषाल\n",
            "68 माहेश्वरी सेठी\n",
            "69 सुकृतिका महतो\n",
            "70 सुकृतिका रावल\n",
            "71 सुकृतिका शोरे\n",
            "72 गार्गी देशपांडे\n",
            "73 रिद्धि पवार\n",
            "74 रजनी ठाकुर\n",
            "75 सुप्रिया सहाय\n",
            "76 मिहिका सोनी\n",
            "77 मिताली कपूर\n",
            "78 रक्षिता भार्गव\n",
            "79 शुभी बजाज\n",
            "80 सुनीति सिसोदिया\n",
            "81 शिखा घोषाल\n",
            "82 करुणा त्रिवेदी\n",
            "83 अपराजिता कामत\n",
            "84 परिणीता खजुरिया\n",
            "85 प्रियंवदा रुंथला\n",
            "86 शेफाली भाटी\n",
            "87 तनीषा सुराना\n",
            "88 साधना सुप्रियो\n",
            "89 भगवती हर्षा\n",
            "90 मंगेशकर अर्चना\n",
            "91 कक्कड़ अवंतिका\n",
            "92 सांपला सुकृतिका\n",
            "93 मुक्ति रैना\n",
            "94 जूली गावस्कर\n",
            "95 रूनझुन दत्त\n",
            "96 साधना गुजराल\n",
            "97 महालक्ष्मी अहले\n",
            "98 मुक्ति दीक्षित\n",
            "99 पुष्पा माली\n",
            "100 सुषमा अहले\n",
            "101 निधि गुजराल\n",
            "102 रीतिका गडकरी\n",
            "103 अपर्णा शॉ\n",
            "104 रक्षा कौल\n",
            "105 मैथिली पाठक\n",
            "106 मानसी गांवकर\n",
            "107 हंसवी सिंह\n",
            "108 नयनतारा अठावले\n",
            "109 सरस्वती नाइक\n",
            "110 अनामिका अतलानी\n",
            "111 यशोदा सुराना\n",
            "112 गुंजा मालोदे\n",
            "113 नैना भारती\n",
            "114 सरोजिनी जेटली\n",
            "115 दीपिका जहांगीरदार\n",
            "116 भगवती गोविल\n",
            "117 मधुलिका राउत\n",
            "118 दुर्गा दासगुप्ता\n",
            "119 शशिकला राम\n",
            "120 मंजुला स्वराज\n",
            "121 सुधा मुंडा\n",
            "122 श्रुति तंवर\n",
            "123 हेमलता गायतोंडे\n",
            "124 अन्वेषा नेगी\n",
            "125 अवनी राय\n",
            "126 दीप्ति माथुर\n",
            "127 राशि गुर्जर\n",
            "128 सोनी गुजराल\n",
            "129 पूर्व केतकर\n",
            "130 उज्जवला श्रीवास्तव\n",
            "131 अंजू मंडल\n",
            "132 रेखा पटवारी\n",
            "133 रुचिका आहूजा\n",
            "134 उपज्ञा सेनगुप्ता\n",
            "135 तूलिका खा\n",
            "136 नीरू ठाकुर\n",
            "137 हेमलता रावत\n",
            "138 भगवती जेठवानी\n",
            "139 आडवाणी रत्नेश\n",
            "140 देसाई रुम्पा\n",
            "141 अत्रे अनीता\n",
            "142 मिश्रा मधुरिमा\n",
            "143 हजारिया अवंतिका\n",
            "144 शेखावत अध्या\n",
            "145 मजूमदार वरुण\n",
            "146 अम्बेडकर प्रभा\n",
            "147 बहल रक्षिता\n",
            "148 दास सुलभा\n",
            "149 मुमुक्षु फूलकुमारी\n",
            "150 गोयल उर्मिला\n"
          ]
        }
      ]
    },
    {
      "cell_type": "code",
      "source": [
        "df['male_hi'] = male_hi_names"
      ],
      "metadata": {
        "id": "GZ9pKHGhlxrl"
      },
      "execution_count": null,
      "outputs": []
    },
    {
      "cell_type": "code",
      "source": [
        "for i, n in enumerate(female_hi_names):\n",
        "  print(i+2, n)"
      ],
      "metadata": {
        "colab": {
          "base_uri": "https://localhost:8080/"
        },
        "id": "7BvHhDeumCLV",
        "outputId": "b3dcba4d-56a3-474b-c324-3bed7c941acb"
      },
      "execution_count": null,
      "outputs": [
        {
          "output_type": "stream",
          "name": "stdout",
          "text": [
            "2 खुशबू अरोरा\n",
            "3 शुचिता खजूरिया\n",
            "4 दमयंती होल्कर\n",
            "5 आकृति कायस्थ\n",
            "6 शुभांगी पुष्कर\n",
            "7 माया भावसार\n",
            "8 अनुभूति जैन\n",
            "9 सुप्रिया गहरवार\n",
            "10 अपराजिता सरदाना\n",
            "11 संगीता कक्कड़\n",
            "12 निमिशा डे\n",
            "13 हरिका त्रिवेदी\n",
            "14 रुनझुन ढोलकिया\n",
            "15 मीरा वहल\n",
            "16 आरती चोपड़ा\n",
            "17 शिखा सिसोदिया\n",
            "18 पूर्वी जावड़ेकर\n",
            "19 संतनिका नाहर\n",
            "20 दामिनी कायस्थ\n",
            "21 मानसी लोहिया\n",
            "22 प्रमिला गुरु\n",
            "23 रेवती चौरसिया\n",
            "24 लीला खोसला\n",
            "25 हेमलता रोड\n",
            "26 प्रीति अंबानी\n",
            "27 मोहिनी त्रिवेदी\n",
            "28 वेदिका खेमका\n",
            "29 लता ददलानी\n",
            "30 लिपिका मीना\n",
            "31 महिमा वहल\n",
            "32 शकुंतला सेठी\n",
            "33 अरुणिता गौतम\n",
            "34 प्रतिभा पटेल\n",
            "35 स्तुति विश्वकर्मा\n",
            "36 महालक्ष्मी उपाध्याय\n",
            "37 अंशिका अत्रे\n",
            "38 सुहासिनी अंबानी\n",
            "39 नीतिका बरनवाल\n",
            "40 राजश्री तेंदुलकर\n",
            "41 काशवी अवस्थी\n",
            "42 नीलू मोर\n",
            "43 सानिध्य पांडे\n",
            "44 जावित्री बिंद्रा\n",
            "45 ईशा शॉ\n",
            "46 काजोल आहूजा\n",
            "47 स्मृति खजूरिया\n",
            "48 मंदाकिनी पुजारी\n",
            "49 वर्तिका सोनी\n",
            "50 सुलोचना चोपड़ा\n",
            "51 आशा कामत\n",
            "52 सीमा कुलकर्णी\n",
            "53 माला शंकर\n",
            "54 किरण द्विवेदी\n",
            "55 शोभा रेड्डी\n",
            "56 शुभांगी भास्कर\n",
            "57 रेखा ददलानी\n",
            "58 मनीषा दुबे\n",
            "59 प्रेक्षा भट्ट\n",
            "60 नयनतारा शेखावत\n",
            "61 अलका भटनागर\n",
            "62 नीतिका गायतोंडे\n",
            "63 गुंजा त्यागी\n",
            "64 प्रिया राम\n",
            "65 निहारिका हलदार\n",
            "66 हरिप्रिया मोहंती\n",
            "67 कलावती घोषाल\n",
            "68 माहेश्वरी सेठी\n",
            "69 सुकृतिका महतो\n",
            "70 सुकृतिका रावल\n",
            "71 सुकृतिका शोरे\n",
            "72 गार्गी देशपांडे\n",
            "73 रिद्धि पवार\n",
            "74 रजनी ठाकुर\n",
            "75 सुप्रिया सहाय\n",
            "76 मिहिका सोनी\n",
            "77 मिताली कपूर\n",
            "78 रक्षिता भार्गव\n",
            "79 शुभी बजाज\n",
            "80 सुनीति सिसोदिया\n",
            "81 शिखा घोषाल\n",
            "82 करुणा त्रिवेदी\n",
            "83 अपराजिता कामत\n",
            "84 परिणीता खजुरिया\n",
            "85 प्रियंवदा रुंथला\n",
            "86 शेफाली भाटी\n",
            "87 तनीषा सुराना\n",
            "88 साधना सुप्रियो\n",
            "89 भगवती हर्षा\n",
            "90 मंगेशकर अर्चना\n",
            "91 कक्कड़ अवंतिका\n",
            "92 सांपला सुकृतिका\n",
            "93 मुक्ति रैना\n",
            "94 जूली गावस्कर\n",
            "95 रूनझुन दत्त\n",
            "96 साधना गुजराल\n",
            "97 महालक्ष्मी अहले\n",
            "98 मुक्ति दीक्षित\n",
            "99 पुष्पा माली\n",
            "100 सुषमा अहले\n",
            "101 निधि गुजराल\n",
            "102 रीतिका गडकरी\n",
            "103 अपर्णा शॉ\n",
            "104 रक्षा कौल\n",
            "105 मैथिली पाठक\n",
            "106 मानसी गांवकर\n",
            "107 हंसवी सिंह\n",
            "108 नयनतारा अठावले\n",
            "109 सरस्वती नाइक\n",
            "110 अनामिका अतलानी\n",
            "111 यशोदा सुराना\n",
            "112 गुंजा मालोदे\n",
            "113 नैना भारती\n",
            "114 सरोजिनी जेटली\n",
            "115 दीपिका जहांगीरदार\n",
            "116 भगवती गोविल\n",
            "117 मधुलिका राउत\n",
            "118 दुर्गा दासगुप्ता\n",
            "119 शशिकला राम\n",
            "120 मंजुला स्वराज\n",
            "121 सुधा मुंडा\n",
            "122 श्रुति तंवर\n",
            "123 हेमलता गायतोंडे\n",
            "124 अन्वेषा नेगी\n",
            "125 अवनी राय\n",
            "126 दीप्ति माथुर\n",
            "127 राशि गुर्जर\n",
            "128 सोनी गुजराल\n",
            "129 पूर्व केतकर\n",
            "130 उज्जवला श्रीवास्तव\n",
            "131 अंजू मंडल\n",
            "132 रेखा पटवारी\n",
            "133 रुचिका आहूजा\n",
            "134 उपज्ञा सेनगुप्ता\n",
            "135 तूलिका खा\n",
            "136 नीरू ठाकुर\n",
            "137 हेमलता रावत\n",
            "138 भगवती आडवाणी\n",
            "139 रत्नेश देसाई\n",
            "140 रुम्पा अत्रे\n",
            "141 अनीता मिश्रा\n",
            "142 मधुरिमा हजारिया\n",
            "143 अवंतिका शेखावत\n",
            "144 अध्या मजूमदार\n",
            "145 वरुण अम्बेडकर\n",
            "146 प्रभा बहल\n",
            "147 रक्षिता दास\n",
            "148 सुलभा मुमुक्षु\n",
            "149 फूलकुमारी गोयल\n",
            "150 उर्मिला पासवान\n",
            "\n"
          ]
        }
      ]
    },
    {
      "cell_type": "code",
      "source": [],
      "metadata": {
        "id": "dxXWI3CXmIW3"
      },
      "execution_count": null,
      "outputs": []
    },
    {
      "cell_type": "code",
      "source": [],
      "metadata": {
        "id": "SionnEPGokjU"
      },
      "execution_count": null,
      "outputs": []
    },
    {
      "cell_type": "code",
      "source": [],
      "metadata": {
        "id": "dpbThotaokgr"
      },
      "execution_count": null,
      "outputs": []
    },
    {
      "cell_type": "code",
      "source": [
        "import numpy as np"
      ],
      "metadata": {
        "id": "O85fUTD8okc2"
      },
      "execution_count": null,
      "outputs": []
    },
    {
      "cell_type": "markdown",
      "source": [
        "# Date"
      ],
      "metadata": {
        "id": "snOSQ4WhzA7b"
      }
    },
    {
      "cell_type": "code",
      "source": [
        "from datetime import date, timedelta\n",
        "#            Y    M  D\n",
        "sdate = date(1947,8,16)   # start date\n",
        "edate = date(2002,1,1)   # end date"
      ],
      "metadata": {
        "colab": {
          "base_uri": "https://localhost:8080/"
        },
        "id": "XCo8zp-OqWJ6",
        "outputId": "ec0277e5-1fee-4b2b-f617-9f5a7459b837"
      },
      "execution_count": null,
      "outputs": [
        {
          "output_type": "stream",
          "name": "stdout",
          "text": [
            "<generator object dates_bwn_twodates at 0x7fdb882b4cf0>\n"
          ]
        }
      ]
    },
    {
      "cell_type": "code",
      "source": [
        "dates = pd.date_range(sdate,edate-timedelta(days=1),freq='d')"
      ],
      "metadata": {
        "id": "DLiwWsWPzDVk"
      },
      "execution_count": null,
      "outputs": []
    },
    {
      "cell_type": "code",
      "source": [
        "male_dob = []\n",
        "female_dob = []\n",
        "\n",
        "for i in range(500):\n",
        "  male_dob.append(str(random.choice(dates)).split(' ')[0])\n",
        "  female_dob.append(str(random.choice(dates)).split(' ')[0])"
      ],
      "metadata": {
        "id": "BbWX_Onw0J-V"
      },
      "execution_count": null,
      "outputs": []
    },
    {
      "cell_type": "code",
      "source": [
        "df['male_dob'] = male_dob\n",
        "df['female_dob'] = female_dob"
      ],
      "metadata": {
        "id": "U4rGwQ0S0Pge"
      },
      "execution_count": null,
      "outputs": []
    },
    {
      "cell_type": "code",
      "source": [
        "df.head(10)"
      ],
      "metadata": {
        "id": "wvBO3nudzpbs"
      },
      "execution_count": null,
      "outputs": []
    },
    {
      "cell_type": "code",
      "source": [
        "df.to_csv('indian_names.csv',index=False)"
      ],
      "metadata": {
        "id": "ZJfwm9q5031y"
      },
      "execution_count": null,
      "outputs": []
    },
    {
      "cell_type": "code",
      "source": [
        "new_data = []\n",
        "\n",
        "for i in range(500):\n",
        "  # print(df.iloc[i]['male'])\n",
        "  male_name = df.iloc[i]['male'].split(' ')\n",
        "  female_name = df.iloc[i]['female'].split(' ')\n",
        "  male_dob = df.iloc[i]['male_dob']\n",
        "  female_dob = df.iloc[i]['female_dob']\n",
        "\n",
        "\n",
        "  male_dict = {'first_name': male_name[0], 'last_name': male_name[1], 'date_of_birth': male_dob, 'gender': 'Male'}\n",
        "  female_dict = {'first_name': female_name[0], 'last_name': female_name[1], 'date_of_birth': female_dob, 'gender': 'Female'}\n",
        "  # print(dict(df.iloc[i]))\n",
        "  new_data.append(male_dict)\n",
        "  new_data.append(female_dict)"
      ],
      "metadata": {
        "id": "GShnMOOt04Tk"
      },
      "execution_count": null,
      "outputs": []
    },
    {
      "cell_type": "code",
      "source": [
        "import json \n",
        "with open(\"/content/indian_names.json\", \"w\") as j:\n",
        "    json.dump(new_data, j)"
      ],
      "metadata": {
        "id": "RhKfPCQ02WIg"
      },
      "execution_count": null,
      "outputs": []
    },
    {
      "cell_type": "code",
      "source": [
        "!pip install albumentations"
      ],
      "metadata": {
        "id": "8c1dXHDT3sH4",
        "colab": {
          "base_uri": "https://localhost:8080/"
        },
        "outputId": "42b1332a-85e6-49f3-b56f-1d8958ca0632"
      },
      "execution_count": null,
      "outputs": [
        {
          "output_type": "stream",
          "name": "stdout",
          "text": [
            "Looking in indexes: https://pypi.org/simple, https://us-python.pkg.dev/colab-wheels/public/simple/\n",
            "Requirement already satisfied: albumentations in /usr/local/lib/python3.9/dist-packages (1.2.1)\n",
            "Requirement already satisfied: opencv-python-headless>=4.1.1 in /usr/local/lib/python3.9/dist-packages (from albumentations) (4.7.0.72)\n",
            "Requirement already satisfied: PyYAML in /usr/local/lib/python3.9/dist-packages (from albumentations) (6.0)\n",
            "Requirement already satisfied: scikit-image>=0.16.1 in /usr/local/lib/python3.9/dist-packages (from albumentations) (0.19.3)\n",
            "Requirement already satisfied: scipy in /usr/local/lib/python3.9/dist-packages (from albumentations) (1.10.1)\n",
            "Requirement already satisfied: numpy>=1.11.1 in /usr/local/lib/python3.9/dist-packages (from albumentations) (1.22.4)\n",
            "Requirement already satisfied: qudida>=0.0.4 in /usr/local/lib/python3.9/dist-packages (from albumentations) (0.0.4)\n",
            "Requirement already satisfied: typing-extensions in /usr/local/lib/python3.9/dist-packages (from qudida>=0.0.4->albumentations) (4.5.0)\n",
            "Requirement already satisfied: scikit-learn>=0.19.1 in /usr/local/lib/python3.9/dist-packages (from qudida>=0.0.4->albumentations) (1.2.1)\n",
            "Requirement already satisfied: networkx>=2.2 in /usr/local/lib/python3.9/dist-packages (from scikit-image>=0.16.1->albumentations) (3.0)\n",
            "Requirement already satisfied: packaging>=20.0 in /usr/local/lib/python3.9/dist-packages (from scikit-image>=0.16.1->albumentations) (23.0)\n",
            "Requirement already satisfied: pillow!=7.1.0,!=7.1.1,!=8.3.0,>=6.1.0 in /usr/local/lib/python3.9/dist-packages (from scikit-image>=0.16.1->albumentations) (8.4.0)\n",
            "Requirement already satisfied: tifffile>=2019.7.26 in /usr/local/lib/python3.9/dist-packages (from scikit-image>=0.16.1->albumentations) (2023.2.28)\n",
            "Requirement already satisfied: PyWavelets>=1.1.1 in /usr/local/lib/python3.9/dist-packages (from scikit-image>=0.16.1->albumentations) (1.4.1)\n",
            "Requirement already satisfied: imageio>=2.4.1 in /usr/local/lib/python3.9/dist-packages (from scikit-image>=0.16.1->albumentations) (2.9.0)\n",
            "Requirement already satisfied: joblib>=1.1.1 in /usr/local/lib/python3.9/dist-packages (from scikit-learn>=0.19.1->qudida>=0.0.4->albumentations) (1.2.0)\n",
            "Requirement already satisfied: threadpoolctl>=2.0.0 in /usr/local/lib/python3.9/dist-packages (from scikit-learn>=0.19.1->qudida>=0.0.4->albumentations) (3.1.0)\n"
          ]
        }
      ]
    },
    {
      "cell_type": "code",
      "source": [
        "import os\n",
        "import cv2\n",
        "import albumentations as A\n",
        "from tqdm import tqdm"
      ],
      "metadata": {
        "id": "BMtyel1tOCwZ"
      },
      "execution_count": null,
      "outputs": []
    },
    {
      "cell_type": "code",
      "source": [
        "transform = A.Compose([\n",
        "    A.RandomBrightnessContrast(p=0.45),\n",
        "])"
      ],
      "metadata": {
        "id": "64EorF7kOIV4"
      },
      "execution_count": null,
      "outputs": []
    },
    {
      "cell_type": "code",
      "source": [
        "folder = 'path/to/directory'\n",
        "new_folder = 'path/to/new_directory'\n",
        "paths = os.listdir(folder)\n",
        "for path in tqdm(paths):\n",
        "  img = cv2.imread(os.path.join(folder,path))\n",
        "  # apply augmentation\n",
        "  transformed = transform(image=img)\n",
        "  cv2.imwrite(os.path.join(new_folder,path), transformed['image'])"
      ],
      "metadata": {
        "id": "vpK4e3PQOUEe"
      },
      "execution_count": null,
      "outputs": []
    }
  ]
}